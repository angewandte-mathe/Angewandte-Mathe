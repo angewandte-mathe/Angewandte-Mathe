{
 "cells": [
  {
   "cell_type": "markdown",
   "metadata": {},
   "source": [
    "# Aufgabe 2 a)"
   ]
  },
  {
   "cell_type": "code",
   "execution_count": 40,
   "metadata": {},
   "outputs": [
    {
     "data": {
      "image/png": "[encoded data removed]",
      "text/plain": [
       "<Figure size 432x288 with 1 Axes>"
      ]
     },
     "metadata": {
      "needs_background": "light"
     },
     "output_type": "display_data"
    }
   ],
   "source": [
    "import numpy as np\n",
    "import matplotlib.pyplot as plt\n",
    "from scipy.integrate import odeint\n",
    "\n",
    "#Anfangsbedingungen\n",
    "\n",
    "# Vektor - z[0]: y, z[1]: v_y, z[2]: x, z[3]: v_x\n",
    "z0 = [0,5,0,10]\n",
    "\n",
    "g = 9.81\n",
    "\n",
    "#Die Zeit\n",
    "t0 = np.linspace(0,10,200)\n",
    "\n",
    "def x(z,t):\n",
    "    x0 = z[0]\n",
    "    x1 = z[1]\n",
    "    x2 = z[2]\n",
    "    x3 = z[3]\n",
    "    return [x1,-g,x3,0]\n",
    "\n",
    "    \n",
    "solx = odeint(x,z0,t0)\n",
    "\n",
    "\n",
    "plt.plot(solx[:,2], solx[:,0])\n",
    "plt.ylim(-1,10)\n",
    "plt.grid()"
   ]
  },
  {
   "cell_type": "code",
   "execution_count": null,
   "metadata": {},
   "outputs": [],
   "source": []
  }
 ],
 "metadata": {
  "kernelspec": {
   "display_name": "Python 3",
   "language": "python",
   "name": "python3"
  },
  "language_info": {
   "codemirror_mode": {
    "name": "ipython",
    "version": 3
   },
   "file_extension": ".py",
   "mimetype": "text/x-python",
   "name": "python",
   "nbconvert_exporter": "python",
   "pygments_lexer": "ipython3",
   "version": "3.7.2"
  }
 },
 "nbformat": 4,
 "nbformat_minor": 2
}
