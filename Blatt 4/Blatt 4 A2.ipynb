{
 "cells": [
  {
   "cell_type": "code",
   "execution_count": 75,
   "metadata": {},
   "outputs": [],
   "source": [
    "import numpy as np"
   ]
  },
  {
   "cell_type": "markdown",
   "metadata": {},
   "source": [
    "# Aufgabe 2: QR Zerlegung"
   ]
  },
  {
   "cell_type": "code",
   "execution_count": 76,
   "metadata": {},
   "outputs": [
    {
     "name": "stdout",
     "output_type": "stream",
     "text": [
      "Own Solution:  (21.0, -8.000000000000002, -2.9999999999999996, 1.0000000000000016)\n",
      "Numpy Solution:  [21. -8. -3.  1.]\n",
      "Own Solution: \n",
      " [[ 0.43151697  0.38357064  0.77459667 -0.25819889]\n",
      " [ 0.38357064 -0.43151697  0.25819889  0.77459667]\n",
      " [ 0.62330229 -0.52740963 -0.25819889 -0.51639778]\n",
      " [ 0.52740963  0.62330229 -0.51639778  0.25819889]]\n",
      "Numpy Solution: \n",
      " [[ 0.43151697  0.38357064 -0.77459667  0.25819889]\n",
      " [ 0.38357064 -0.43151697 -0.25819889 -0.77459667]\n",
      " [ 0.62330229 -0.52740963  0.25819889  0.51639778]\n",
      " [ 0.52740963  0.62330229  0.51639778 -0.25819889]]\n"
     ]
    }
   ],
   "source": [
    "# QR - Zerlegung\n",
    "def qr_decomp(A):\n",
    "    n = A.shape[0]\n",
    "    Q = np.zeros(shape=A.shape)\n",
    "    for index in range(n):\n",
    "        a = A[:,index].copy()\n",
    "        u = a \n",
    "    \n",
    "        for j in range(index):\n",
    "            u -= (Q[:,j].dot(a)) * Q[:,j]\n",
    "        \n",
    "        # Q entsprechend berechnen\n",
    "        Q[:,index] = u / np.linalg.norm(u)\n",
    "    R = Q.T.dot(A)\n",
    "    return Q,R\n",
    "\n",
    "# Eigenwerte\n",
    "def qr_algorithm(A):\n",
    "    S = qr_decomp(A)[0].copy()\n",
    "    I = np.identity(A.shape[0])\n",
    "    A_1 = qr_decomp(A)[1].dot(qr_decomp(A)[0])\n",
    "\n",
    "    for i in range(2000):\n",
    "        Q, R = qr_decomp(A_1)\n",
    "        A_1 = R.dot(Q)\n",
    "        S = S.dot(Q)\n",
    "    \n",
    "    eigenvalues = ()\n",
    "    for diag in range(A.shape[0]):\n",
    "        eigenvalues = eigenvalues + (A_1[diag][diag],)\n",
    "        \n",
    "    return eigenvalues,S\n",
    "        \n",
    "A = np.asarray(((1, 4, 8, 4), (4, 2, 3, 7), (8, 3, 6, 9), (4, 7, 9, 2)), dtype=\"float64\")\n",
    "print(\"Own Solution: \", qr_algorithm(A)[0])\n",
    "print(\"Numpy Solution: \", np.linalg.eig(A)[0])\n",
    "print(\"Own Solution: \\n\",qr_algorithm(A)[1])\n",
    "print(\"Numpy Solution: \\n\", np.linalg.eig(A)[1])\n"
   ]
  }
 ],
 "metadata": {
  "kernelspec": {
   "display_name": "Python 3",
   "language": "python",
   "name": "python3"
  },
  "language_info": {
   "codemirror_mode": {
    "name": "ipython",
    "version": 3
   },
   "file_extension": ".py",
   "mimetype": "text/x-python",
   "name": "python",
   "nbconvert_exporter": "python",
   "pygments_lexer": "ipython3",
   "version": "3.7.2"
  }
 },
 "nbformat": 4,
 "nbformat_minor": 2
}
